{
  "cells": [
    {
      "cell_type": "markdown",
      "id": "114d16cc",
      "metadata": {
        "id": "114d16cc"
      },
      "source": [
        "# IMPORTING THE REQUIRED LIBRARIES"
      ]
    },
    {
      "cell_type": "code",
      "execution_count": 41,
      "id": "7pH5zIbjQ6NN",
      "metadata": {
        "colab": {
          "base_uri": "https://localhost:8080/"
        },
        "id": "7pH5zIbjQ6NN",
        "outputId": "8a336fc2-27ab-460e-a270-001b0a5c46b3"
      },
      "outputs": [],
      "source": [
        "#from google.colab import drive\n",
        "#drive.mount('/content/drive')"
      ]
    },
    {
      "cell_type": "code",
      "execution_count": 42,
      "id": "aaedc4b5",
      "metadata": {
        "id": "aaedc4b5"
      },
      "outputs": [],
      "source": [
        "from tkinter import *\n",
        "import numpy as np \n",
        "import pandas as pd \n",
        "import statistics as st"
      ]
    },
    {
      "cell_type": "code",
      "execution_count": 43,
      "id": "308e4c2c",
      "metadata": {
        "id": "308e4c2c"
      },
      "outputs": [],
      "source": [
        "# Symptoms - 132\n",
        "\n",
        "l1=['back_pain','constipation','abdominal_pain','diarrhoea','mild_fever','yellow_urine',\n",
        "'yellowing_of_eyes','acute_liver_failure','fluid_overload','swelling_of_stomach',\n",
        "'swelled_lymph_nodes','malaise','blurred_and_distorted_vision','phlegm','throat_irritation',\n",
        "'redness_of_eyes','sinus_pressure','runny_nose','congestion','chest_pain','weakness_in_limbs',\n",
        "'fast_heart_rate','pain_during_bowel_movements','pain_in_anal_region','bloody_stool',\n",
        "'irritation_in_anus','neck_pain','dizziness','cramps','bruising','obesity','swollen_legs',\n",
        "'swollen_blood_vessels','puffy_face_and_eyes','enlarged_thyroid','brittle_nails',\n",
        "'swollen_extremeties','excessive_hunger','extra_marital_contacts','drying_and_tingling_lips',\n",
        "'slurred_speech','knee_pain','hip_joint_pain','muscle_weakness','stiff_neck','swelling_joints',\n",
        "'movement_stiffness','spinning_movements','loss_of_balance','unsteadiness',\n",
        "'weakness_of_one_body_side','loss_of_smell','bladder_discomfort','foul_smell_of urine',\n",
        "'continuous_feel_of_urine','passage_of_gases','internal_itching','toxic_look_(typhos)',\n",
        "'depression','irritability','muscle_pain','altered_sensorium','red_spots_over_body','belly_pain',\n",
        "'abnormal_menstruation','dischromic _patches','watering_from_eyes','increased_appetite','polyuria','family_history','mucoid_sputum',\n",
        "'rusty_sputum','lack_of_concentration','visual_disturbances','receiving_blood_transfusion',\n",
        "'receiving_unsterile_injections','coma','stomach_bleeding','distention_of_abdomen',\n",
        "'history_of_alcohol_consumption','fluid_overload','blood_in_sputum','prominent_veins_on_calf',\n",
        "'palpitations','painful_walking','pus_filled_pimples','blackheads','scurring','skin_peeling',\n",
        "'silver_like_dusting','small_dents_in_nails','inflammatory_nails','blister','red_sore_around_nose',\n",
        "'yellow_crust_ooze']"
      ]
    },
    {
      "cell_type": "code",
      "execution_count": 44,
      "id": "3f4d42eb",
      "metadata": {
        "id": "3f4d42eb"
      },
      "outputs": [],
      "source": [
        "# disease - 41\n",
        "disease=['Fungal infection','Allergy','GERD','Chronic cholestasis','Drug Reaction',\n",
        "'Peptic ulcer diseae','AIDS','Diabetes','Gastroenteritis','Bronchial Asthma','Hypertension',\n",
        "' Migraine','Cervical spondylosis',\n",
        "'Paralysis (brain hemorrhage)','Jaundice','Malaria','Chicken pox','Dengue','Typhoid','hepatitis A',\n",
        "'Hepatitis B','Hepatitis C','Hepatitis D','Hepatitis E','Alcoholic hepatitis','Tuberculosis',\n",
        "'Common Cold','Pneumonia','Dimorphic hemmorhoids(piles)',\n",
        "'Heartattack','Varicoseveins','Hypothyroidism','Hyperthyroidism','Hypoglycemia','Osteoarthristis',\n",
        "'Arthritis','(vertigo) Paroymsal  Positional Vertigo','Acne','Urinary tract infection','Psoriasis',\n",
        "'Impetigo','You are Healthy!']"
      ]
    },
    {
      "cell_type": "code",
      "execution_count": 45,
      "id": "b8505f23",
      "metadata": {
        "id": "b8505f23"
      },
      "outputs": [],
      "source": [
        "l2=[]\n",
        "for x in range(0,len(l1)):\n",
        "    l2.append(0)"
      ]
    },
    {
      "cell_type": "markdown",
      "id": "d340952c",
      "metadata": {
        "id": "d340952c"
      },
      "source": [
        "# TRAINING DATA"
      ]
    },
    {
      "cell_type": "code",
      "execution_count": 46,
      "id": "2021c346",
      "metadata": {
        "colab": {
          "base_uri": "https://localhost:8080/"
        },
        "id": "2021c346",
        "outputId": "24db5072-6737-44f5-9fe4-96885ffc9176"
      },
      "outputs": [
        {
          "name": "stdout",
          "output_type": "stream",
          "text": [
            "      itching  skin_rash  nodal_skin_eruptions  continuous_sneezing  \\\n",
            "4915        0          0                     0                    0   \n",
            "4916        0          1                     0                    0   \n",
            "4917        0          0                     0                    0   \n",
            "4918        0          1                     0                    0   \n",
            "4919        0          1                     0                    0   \n",
            "\n",
            "      shivering  chills  joint_pain  stomach_pain  acidity  ulcers_on_tongue  \\\n",
            "4915          0       0           0             0        0                 0   \n",
            "4916          0       0           0             0        0                 0   \n",
            "4917          0       0           0             0        0                 0   \n",
            "4918          0       0           1             0        0                 0   \n",
            "4919          0       0           0             0        0                 0   \n",
            "\n",
            "      ...  blackheads  scurring  skin_peeling  silver_like_dusting  \\\n",
            "4915  ...           0         0             0                    0   \n",
            "4916  ...           1         1             0                    0   \n",
            "4917  ...           0         0             0                    0   \n",
            "4918  ...           0         0             1                    1   \n",
            "4919  ...           0         0             0                    0   \n",
            "\n",
            "      small_dents_in_nails  inflammatory_nails  blister  red_sore_around_nose  \\\n",
            "4915                     0                   0        0                     0   \n",
            "4916                     0                   0        0                     0   \n",
            "4917                     0                   0        0                     0   \n",
            "4918                     1                   1        0                     0   \n",
            "4919                     0                   0        1                     1   \n",
            "\n",
            "      yellow_crust_ooze                                prognosis  \n",
            "4915                  0  (vertigo) Paroymsal  Positional Vertigo  \n",
            "4916                  0                                     Acne  \n",
            "4917                  0                  Urinary tract infection  \n",
            "4918                  0                                Psoriasis  \n",
            "4919                  1                                 Impetigo  \n",
            "\n",
            "[5 rows x 133 columns]\n"
          ]
        },
        {
          "name": "stderr",
          "output_type": "stream",
          "text": [
            "C:\\Users\\nandi\\AppData\\Local\\Temp\\ipykernel_9780\\3080869210.py:6: FutureWarning: Downcasting behavior in `replace` is deprecated and will be removed in a future version. To retain the old behavior, explicitly call `result.infer_objects(copy=False)`. To opt-in to the future behavior, set `pd.set_option('future.no_silent_downcasting', True)`\n",
            "  df.replace({'prognosis':{'Fungal infection':0,'Allergy':1,'GERD':2,'Chronic cholestasis':3,'Drug Reaction':4,\n"
          ]
        }
      ],
      "source": [
        "# READING AND ENCODING THE DATA FROM TRAINING DATASET\n",
        "\n",
        "df=pd.read_csv(\"Training (1).csv\")\n",
        "print(df.tail())\n",
        "\n",
        "df.replace({'prognosis':{'Fungal infection':0,'Allergy':1,'GERD':2,'Chronic cholestasis':3,'Drug Reaction':4,\n",
        "'Peptic ulcer diseae':5,'AIDS':6,'Diabetes ':7,'Gastroenteritis':8,'Bronchial Asthma':9,'Hypertension ':10,\n",
        "'Migraine':11,'Cervical spondylosis':12,\n",
        "'Paralysis (brain hemorrhage)':13,'Jaundice':14,'Malaria':15,'Chicken pox':16,'Dengue':17,'Typhoid':18,'hepatitis A':19,\n",
        "'Hepatitis B':20,'Hepatitis C':21,'Hepatitis D':22,'Hepatitis E':23,'Alcoholic hepatitis':24,'Tuberculosis':25,\n",
        "'Common Cold':26,'Pneumonia':27,'Dimorphic hemmorhoids(piles)':28,'Heart attack':29,'Varicose veins':30,'Hypothyroidism':31,\n",
        "'Hyperthyroidism':32,'Hypoglycemia':33,'Osteoarthristis':34,'Arthritis':35,\n",
        "'(vertigo) Paroymsal  Positional Vertigo':36,'Acne':37,'Urinary tract infection':38,'Psoriasis':39,\n",
        "'Impetigo':40,'You are Healthy!':41}},inplace=True)\n"
      ]
    },
    {
      "cell_type": "code",
      "execution_count": 47,
      "id": "ee9df7dd",
      "metadata": {
        "colab": {
          "base_uri": "https://localhost:8080/"
        },
        "id": "ee9df7dd",
        "outputId": "250e78c8-972b-48cb-fccf-b3763183d05e"
      },
      "outputs": [
        {
          "data": {
            "text/plain": [
              "array([ 0,  0,  0, ..., 38, 39, 40], dtype=int64)"
            ]
          },
          "execution_count": 47,
          "metadata": {},
          "output_type": "execute_result"
        }
      ],
      "source": [
        "# SEPERATING THE LABEL FROM THE FEATURES\n",
        "X= df[l1]\n",
        "\n",
        "y = df[[\"prognosis\"]]\n",
        "np.ravel(y)"
      ]
    },
    {
      "cell_type": "markdown",
      "id": "2d7ad9bf",
      "metadata": {
        "id": "2d7ad9bf"
      },
      "source": [
        "# TESTING DATA"
      ]
    },
    {
      "cell_type": "code",
      "execution_count": 48,
      "id": "91607827",
      "metadata": {
        "colab": {
          "base_uri": "https://localhost:8080/"
        },
        "id": "91607827",
        "outputId": "5de72969-f9e0-403d-c205-e011988a0b75"
      },
      "outputs": [
        {
          "name": "stderr",
          "output_type": "stream",
          "text": [
            "C:\\Users\\nandi\\AppData\\Local\\Temp\\ipykernel_9780\\28064353.py:4: FutureWarning: Downcasting behavior in `replace` is deprecated and will be removed in a future version. To retain the old behavior, explicitly call `result.infer_objects(copy=False)`. To opt-in to the future behavior, set `pd.set_option('future.no_silent_downcasting', True)`\n",
            "  tr.replace({'prognosis':{'Fungal infection':0,'Allergy':1,'GERD':2,'Chronic cholestasis':3,'Drug Reaction':4,\n"
          ]
        },
        {
          "data": {
            "text/plain": [
              "array([ 0,  1,  2,  3,  4,  5,  6,  7,  8,  9, 10, 11, 12, 13, 14, 15, 16,\n",
              "       17, 18, 19, 20, 21, 22, 23, 24, 25, 26, 27, 28, 29, 30, 31, 32, 33,\n",
              "       34, 35, 36, 37, 38, 39, 40], dtype=int64)"
            ]
          },
          "execution_count": 48,
          "metadata": {},
          "output_type": "execute_result"
        }
      ],
      "source": [
        "# READING AND ENCODING THE DATA FROM TESTING DATASET\n",
        "\n",
        "tr=pd.read_csv(\"Testing (1).csv\")\n",
        "tr.replace({'prognosis':{'Fungal infection':0,'Allergy':1,'GERD':2,'Chronic cholestasis':3,'Drug Reaction':4,\n",
        "'Peptic ulcer diseae':5,'AIDS':6,'Diabetes ':7,'Gastroenteritis':8,'Bronchial Asthma':9,'Hypertension ':10,\n",
        "'Migraine':11,'Cervical spondylosis':12,\n",
        "'Paralysis (brain hemorrhage)':13,'Jaundice':14,'Malaria':15,'Chicken pox':16,'Dengue':17,'Typhoid':18,'hepatitis A':19,\n",
        "'Hepatitis B':20,'Hepatitis C':21,'Hepatitis D':22,'Hepatitis E':23,'Alcoholic hepatitis':24,'Tuberculosis':25,\n",
        "'Common Cold':26,'Pneumonia':27,'Dimorphic hemmorhoids(piles)':28,'Heart attack':29,'Varicose veins':30,'Hypothyroidism':31,\n",
        "'Hyperthyroidism':32,'Hypoglycemia':33,'Osteoarthristis':34,'Arthritis':35,\n",
        "'(vertigo) Paroymsal  Positional Vertigo':36,'Acne':37,'Urinary tract infection':38,'Psoriasis':39,\n",
        "'Impetigo':40,'You are Healthy!':41}},inplace=True)\n",
        "\n",
        "X_test= tr[l1]\n",
        "y_test = tr[[\"prognosis\"]]\n",
        "np.ravel(y_test)"
      ]
    },
    {
      "cell_type": "markdown",
      "id": "3c7779f3",
      "metadata": {
        "id": "3c7779f3"
      },
      "source": [
        "# Decision Tree Algorithm"
      ]
    },
    {
      "cell_type": "code",
      "execution_count": 49,
      "id": "82dfb6db",
      "metadata": {
        "id": "82dfb6db"
      },
      "outputs": [],
      "source": [
        "def DecisionTree(l):\n",
        "\n",
        "    from sklearn import tree\n",
        "\n",
        "    clf3 = tree.DecisionTreeClassifier()   # empty model of the decision tree\n",
        "    clf3.fit(X,np.ravel(y))\n",
        "\n",
        "    # calculating accuracy (The accuracy score is a commonly used metric in classification tasks to evaluate the performance of a classification model.)-------------------------------------------------------------------\n",
        "    from sklearn.metrics import accuracy_score\n",
        "    y_pred=clf3.predict(X_test)\n",
        "    print(accuracy_score(y_test, y_pred))\n",
        "    #print(accuracy_score(y_test, y_pred,normalize=False))\n",
        "    # -----------------------------------------------------\n",
        "\n",
        "    psymptoms = [Symptom1.get(),Symptom2.get(),Symptom3.get(),Symptom4.get(),Symptom5.get()]\n",
        "\n",
        "    for k in range(0,len(l1)):\n",
        "        # print (k,)\n",
        "        for z in psymptoms:\n",
        "            if(z==l1[k]):\n",
        "                l2[k]=1\n",
        "\n",
        "    inputtest = [l2]\n",
        "    predict = clf3.predict(inputtest)\n",
        "    predicted=predict[0]\n",
        "    #print(\"predicted=\",predict)\n",
        "    if sum(l2)==0:\n",
        "        predicted=41\n",
        "    l.append(predicted)\n",
        "\n",
        "#     h='no'\n",
        "#     for a in range(0,len(disease)):\n",
        "#         if(predicted == a):\n",
        "#             h='yes'\n",
        "#             break\n",
        "\n",
        "\n",
        "#     if (h=='yes'):\n",
        "#         t1.delete(\"1.0\", END)\n",
        "#         t1.insert(END, disease[a])\n",
        "#     else:\n",
        "#         t1.delete(\"1.0\", END)\n",
        "#         t1.insert(END, \"Not Found\")"
      ]
    },
    {
      "cell_type": "markdown",
      "id": "7cf96685",
      "metadata": {
        "id": "7cf96685"
      },
      "source": [
        "# Random Forest Algorithm"
      ]
    },
    {
      "cell_type": "code",
      "execution_count": 50,
      "id": "c245fc4b",
      "metadata": {
        "id": "c245fc4b"
      },
      "outputs": [],
      "source": [
        "def randomforest(l):\n",
        "    from sklearn.ensemble import RandomForestClassifier\n",
        "    clf4 = RandomForestClassifier()\n",
        "    clf4.fit(X,np.ravel(y))\n",
        "\n",
        "    # calculating accuracy-------------------------------------------------------------------\n",
        "    from sklearn.metrics import accuracy_score\n",
        "    y_pred=clf4.predict(X_test)\n",
        "    print(accuracy_score(y_test, y_pred))\n",
        "    #print(accuracy_score(y_test, y_pred,normalize=False))\n",
        "    # -----------------------------------------------------\n",
        "\n",
        "    psymptoms = [Symptom1.get(),Symptom2.get(),Symptom3.get(),Symptom4.get(),Symptom5.get()]\n",
        "\n",
        "    for k in range(0,len(l1)):\n",
        "        for z in psymptoms:\n",
        "            if(z==l1[k]):\n",
        "                l2[k]=1\n",
        "\n",
        "    inputtest = [l2]\n",
        "    predict = clf4.predict(inputtest)\n",
        "    predicted=predict[0]\n",
        "    if sum(l2)==0:\n",
        "        predicted=41\n",
        "    l.append(predicted)\n",
        "\n",
        "#     h='no'\n",
        "#     for a in range(0,len(disease)):\n",
        "#         if(predicted == a):\n",
        "#             h='yes'\n",
        "#             break\n",
        "\n",
        "#     if (h=='yes'):\n",
        "#         t2.delete(\"1.0\", END)\n",
        "#         t2.insert(END, disease[a])\n",
        "#     else:\n",
        "#         t2.delete(\"1.0\", END)\n",
        "#         t2.insert(END, \"Not Found\")\n",
        "\n"
      ]
    },
    {
      "cell_type": "markdown",
      "id": "867b06a8",
      "metadata": {
        "id": "867b06a8"
      },
      "source": [
        "# Naive Bayes Algorithm"
      ]
    },
    {
      "cell_type": "code",
      "execution_count": 51,
      "id": "80f91c20",
      "metadata": {
        "id": "80f91c20"
      },
      "outputs": [],
      "source": [
        "def NaiveBayes(l):\n",
        "    from sklearn.naive_bayes import GaussianNB\n",
        "    gnb = GaussianNB()\n",
        "    gnb.fit(X,np.ravel(y))\n",
        "\n",
        "    # calculating accuracy-------------------------------------------------------------------\n",
        "    from sklearn.metrics import accuracy_score\n",
        "\n",
        "    y_pred=gnb.predict(X_test)\n",
        "    print(accuracy_score(y_test, y_pred))\n",
        "\n",
        "    #print(accuracy_score(y_test, y_pred,normalize=False))\n",
        "    # -----------------------------------------------------\n",
        "\n",
        "    psymptoms = [Symptom1.get(),Symptom2.get(),Symptom3.get(),Symptom4.get(),Symptom5.get()]\n",
        "    for k in range(0,len(l1)):\n",
        "        for z in psymptoms:\n",
        "            if(z==l1[k]):\n",
        "                l2[k]=1\n",
        "\n",
        "    inputtest = [l2]\n",
        "    predict = gnb.predict(inputtest)\n",
        "    predicted=predict[0]\n",
        "    if sum(l2)==0:\n",
        "        predicted=41\n",
        "    l.append(predicted)\n",
        "\n",
        "#     h='no'\n",
        "#     for a in range(0,len(disease)):\n",
        "#         if(predicted == a):\n",
        "#             h='yes'\n",
        "#             break\n",
        "\n",
        "#     if (h=='yes'):\n",
        "#         t3.delete(\"1.0\", END)\n",
        "#         t3.insert(END, disease[a])\n",
        "#     else:\n",
        "#         t3.delete(\"1.0\", END)\n",
        "#         t3.insert(END, \"Not Found\")"
      ]
    },
    {
      "cell_type": "markdown",
      "id": "1cee5d6d",
      "metadata": {
        "id": "1cee5d6d"
      },
      "source": [
        "# Support Vector Machine Algorithm"
      ]
    },
    {
      "cell_type": "code",
      "execution_count": 52,
      "id": "1533ebc4",
      "metadata": {
        "id": "1533ebc4"
      },
      "outputs": [],
      "source": [
        "def SupportVectorMachine(l):\n",
        "    from sklearn import svm\n",
        "    C = 1.0 # SVM regularization parameter\n",
        "    svc = svm.SVC(kernel='linear', C=C)\n",
        "    svc.fit(X, np.ravel(y))\n",
        "\n",
        "    # calculating accuracy-------------------------------------------------------------------\n",
        "    from sklearn.metrics import accuracy_score\n",
        "\n",
        "    y_pred=svc.predict(X_test)\n",
        "    print(accuracy_score(y_test, y_pred))\n",
        "\n",
        "    #print(accuracy_score(y_test, y_pred,normalize=False))\n",
        "    # -----------------------------------------------------\n",
        "\n",
        "    psymptoms = [Symptom1.get(),Symptom2.get(),Symptom3.get(),Symptom4.get(),Symptom5.get()]\n",
        "    for k in range(0,len(l1)):\n",
        "        for z in psymptoms:\n",
        "            if(z==l1[k]):\n",
        "                l2[k]=1\n",
        "\n",
        "    inputtest = [l2]\n",
        "    predict = svc.predict(inputtest)\n",
        "    predicted=predict[0]\n",
        "    if sum(l2)==0:\n",
        "        predicted=41\n",
        "    l.append(predicted)\n"
      ]
    },
    {
      "cell_type": "markdown",
      "id": "30ffc778",
      "metadata": {
        "id": "30ffc778"
      },
      "source": [
        "# Logistic Regression Algorithm"
      ]
    },
    {
      "cell_type": "code",
      "execution_count": 53,
      "id": "dc59f152",
      "metadata": {
        "id": "dc59f152"
      },
      "outputs": [],
      "source": [
        "def LogisticRegression(l):\n",
        "    from sklearn.linear_model import LogisticRegression\n",
        "    logreg = LogisticRegression(random_state=0, solver='lbfgs')\n",
        "    logreg.fit(X,np.ravel(y))\n",
        "\n",
        "    # calculating accuracy-------------------------------------------------------------------\n",
        "    from sklearn.metrics import accuracy_score\n",
        "\n",
        "    y_pred=logreg.predict(X_test)\n",
        "    print(accuracy_score(y_test, y_pred))\n",
        "    #print(accuracy_score(y_test, y_pred,normalize=False))\n",
        "    # -----------------------------------------------------\n",
        "\n",
        "    psymptoms = [Symptom1.get(),Symptom2.get(),Symptom3.get(),Symptom4.get(),Symptom5.get()]\n",
        "    for k in range(0,len(l1)):\n",
        "        for z in psymptoms:\n",
        "            if(z==l1[k]):\n",
        "                l2[k]=1\n",
        "\n",
        "    inputtest = [l2]\n",
        "    predict = logreg.predict(inputtest)\n",
        "    predicted=predict[0]\n",
        "    if sum(l2)==0:\n",
        "        predicted=41\n",
        "\n",
        "    l.append(predicted)\n",
        "\n"
      ]
    },
    {
      "cell_type": "markdown",
      "id": "b0aba7be",
      "metadata": {
        "id": "b0aba7be"
      },
      "source": [
        "# KnearestNeighbors Algorithm"
      ]
    },
    {
      "cell_type": "code",
      "execution_count": 54,
      "id": "392fc779",
      "metadata": {
        "id": "392fc779"
      },
      "outputs": [],
      "source": [
        "def KNearestNeighbors(l):\n",
        "    from sklearn.neighbors import KNeighborsClassifier\n",
        "    kn = KNeighborsClassifier(n_neighbors=1)\n",
        "    kn.fit(X, np.ravel(y))\n",
        "    from sklearn.metrics import accuracy_score\n",
        "\n",
        "    y_pred=kn.predict(X_test)\n",
        "    print(accuracy_score(y_test, y_pred))\n",
        "\n",
        "    #print(accuracy_score(y_test, y_pred,normalize=False))\n",
        "    # -----------------------------------------------------\n",
        "\n",
        "    psymptoms = [Symptom1.get(),Symptom2.get(),Symptom3.get(),Symptom4.get(),Symptom5.get()]\n",
        "    for k in range(0,len(l1)):\n",
        "        for z in psymptoms:\n",
        "            if(z==l1[k]):\n",
        "                l2[k]=1\n",
        "\n",
        "    inputtest = [l2]\n",
        "    predict = kn.predict(inputtest)\n",
        "    predicted=predict[0]\n",
        "    if sum(l2)==0:\n",
        "        predicted=41\n",
        "\n",
        "    l.append(predicted)"
      ]
    },
    {
      "cell_type": "markdown",
      "id": "80bb4329",
      "metadata": {
        "id": "80bb4329"
      },
      "source": [
        "#gui"
      ]
    },
    {
      "cell_type": "code",
      "execution_count": 55,
      "id": "da8a57b1",
      "metadata": {
        "colab": {
          "base_uri": "https://localhost:8080/",
          "height": 364
        },
        "id": "da8a57b1",
        "outputId": "a0ac6a66-d516-4970-bed2-785d87ba96f5"
      },
      "outputs": [],
      "source": [
        "root = Tk()\n",
        "root.configure(background='aquamarine')\n",
        "root.title('Disease Predictor')\n",
        "l=[]\n",
        "\n",
        "# entry variables\n",
        "Symptom1 = StringVar()\n",
        "Symptom1.set(None)\n",
        "Symptom2 = StringVar()\n",
        "Symptom2.set(None)\n",
        "Symptom3 = StringVar()\n",
        "Symptom3.set(None)\n",
        "Symptom4 = StringVar()\n",
        "Symptom4.set(None)\n",
        "Symptom5 = StringVar()\n",
        "Symptom5.set(None)\n",
        "Name = StringVar()\n",
        "\n"
      ]
    },
    {
      "cell_type": "code",
      "execution_count": 56,
      "id": "4e67a809",
      "metadata": {
        "colab": {
          "base_uri": "https://localhost:8080/",
          "height": 219
        },
        "id": "4e67a809",
        "outputId": "7f9c85a8-205b-4f24-fc68-91c8db32ff27"
      },
      "outputs": [],
      "source": [
        "# Heading\n",
        "w2 = Label(root, justify=CENTER, text=\"Multiple Disease Prediction using Machine Learning\", fg=\"blue\")\n",
        "w2.config(font=(\"Elephant\", 30))\n",
        "w2.grid(row=1, column=0, columnspan=2, padx=100)\n",
        "#w2 = Label(root, justify=CENTER, text=\"A Project by Ujwala\", fg=\"white\", bg=\"blue\")\n",
        "w2.config(font=(\"Aharoni\", 30))\n",
        "w2.grid(row=2, column=0, columnspan=2, padx=100)"
      ]
    },
    {
      "cell_type": "code",
      "execution_count": 57,
      "id": "ae429983",
      "metadata": {
        "id": "ae429983"
      },
      "outputs": [],
      "source": [
        "# labels\n",
        "NameLb = Label(root, text=\"Name of the Patient\", fg=\"yellow\", bg=\"black\")\n",
        "NameLb.grid(row=6, column=0, pady=15, sticky=W)\n",
        "\n",
        "\n",
        "S1Lb = Label(root, text=\"Symptom 1\", fg=\"black\", bg=\"gold\")\n",
        "S1Lb.grid(row=7, column=0, pady=10, sticky=W)\n",
        "\n",
        "S2Lb = Label(root, text=\"Symptom 2\", bg=\"gold\", fg=\"black\")\n",
        "S2Lb.grid(row=8, column=0, pady=10, sticky=W)\n",
        "\n",
        "S3Lb = Label(root, text=\"Symptom 3\", bg=\"gold\", fg=\"black\")\n",
        "S3Lb.grid(row=9, column=0, pady=10, sticky=W)\n",
        "\n",
        "S4Lb = Label(root, text=\"Symptom 4\", bg=\"gold\", fg=\"black\")\n",
        "S4Lb.grid(row=10, column=0, pady=10, sticky=W)\n",
        "\n",
        "S5Lb = Label(root, text=\"Symptom 5\", bg=\"gold\", fg=\"black\")\n",
        "S5Lb.grid(row=11, column=0, pady=10, sticky=W)\n",
        "\n",
        "but1=Label(root, text=\"Predicted Disease:\", fg=\"white\", bg=\"red\")\n",
        "but1.grid(row=15, column=0, pady=10,sticky=W)\n",
        "\n",
        "\n",
        "# lrLb = Label(root, text=\"DecisionTree\", fg=\"white\", bg=\"red\")\n",
        "# lrLb.grid(row=15, column=0, pady=10,sticky=W)\n",
        "\n",
        "# destreeLb = Label(root, text=\"RandomForest\", fg=\"white\", bg=\"red\")\n",
        "# destreeLb.grid(row=17, column=0, pady=10, sticky=W)\n",
        "\n",
        "# ranfLb = Label(root, text=\"NaiveBayes\", fg=\"white\", bg=\"red\")\n",
        "# ranfLb.grid(row=19, column=0, pady=10, sticky=W)\n"
      ]
    },
    {
      "cell_type": "code",
      "execution_count": 58,
      "id": "2386fb8a",
      "metadata": {
        "id": "2386fb8a"
      },
      "outputs": [],
      "source": [
        "def Clubbed():\n",
        "    l=[]\n",
        "    DecisionTree(l)\n",
        "    randomforest(l)\n",
        "    NaiveBayes(l)\n",
        "    SupportVectorMachine(l)\n",
        "    LogisticRegression(l)\n",
        "    KNearestNeighbors(l)\n",
        "    out=st.mode(l)\n",
        "    h='no'\n",
        "    print(out)\n",
        "    for a in range(0,len(disease)):\n",
        "        if(out == a):\n",
        "            h='yes'\n",
        "            break\n",
        "\n",
        "    if (h=='yes'):\n",
        "        t3.delete(\"1.0\", END)\n",
        "        t3.insert(END, disease[a])\n",
        "    else:\n",
        "        t3.delete(\"1.0\", END)\n",
        "        t3.insert(END, \"Not Found\")\n",
        "\n"
      ]
    },
    {
      "cell_type": "code",
      "execution_count": 59,
      "id": "b8c82e4b",
      "metadata": {
        "id": "b8c82e4b"
      },
      "outputs": [],
      "source": [
        "# entries\n",
        "OPTIONS = sorted(l1)\n",
        "\n",
        "NameEn = Entry(root, textvariable=Name)\n",
        "NameEn.grid(row=6, column=1)\n",
        "\n",
        "S1En = OptionMenu(root, Symptom1,*OPTIONS)\n",
        "S1En.grid(row=7, column=1)\n",
        "\n",
        "S2En = OptionMenu(root, Symptom2,*OPTIONS)\n",
        "S2En.grid(row=8, column=1)\n",
        "\n",
        "S3En = OptionMenu(root, Symptom3,*OPTIONS)\n",
        "S3En.grid(row=9, column=1)\n",
        "\n",
        "S4En = OptionMenu(root, Symptom4,*OPTIONS)\n",
        "S4En.grid(row=10, column=1)\n",
        "\n",
        "S5En = OptionMenu(root, Symptom5,*OPTIONS)\n",
        "S5En.grid(row=11, column=1)\n",
        "\n",
        "but= Button(root, text=\"PREDICT\", command=Clubbed,bg=\"green\",fg=\"yellow\")\n",
        "but.grid(row=9, column=3,padx=10)\n",
        "\n",
        "# dst = Button(root, text=\"DecisionTree\", command=DecisionTree,bg=\"green\",fg=\"yellow\")\n",
        "# dst.grid(row=8, column=3)\n",
        "\n",
        "# rnf = Button(root, text=\"Randomforest\", command=randomforest,bg=\"green\",fg=\"yellow\")\n",
        "# rnf.grid(row=9, column=3,padx=10)\n",
        "\n",
        "# lr = Button(root, text=\"NaiveBayes\", command=NaiveBayes,bg=\"green\",fg=\"yellow\")\n",
        "# lr.grid(row=10, column=3,padx=10)"
      ]
    },
    {
      "cell_type": "code",
      "execution_count": 60,
      "id": "6290404c",
      "metadata": {
        "id": "6290404c"
      },
      "outputs": [
        {
          "name": "stdout",
          "output_type": "stream",
          "text": [
            "0.9512195121951219\n"
          ]
        },
        {
          "name": "stderr",
          "output_type": "stream",
          "text": [
            "c:\\ProgramData\\anaconda3\\envs\\machinelearning\\Lib\\site-packages\\sklearn\\base.py:493: UserWarning: X does not have valid feature names, but DecisionTreeClassifier was fitted with feature names\n",
            "  warnings.warn(\n"
          ]
        },
        {
          "name": "stdout",
          "output_type": "stream",
          "text": [
            "0.9512195121951219\n",
            "0.9512195121951219\n",
            "0.9512195121951219\n"
          ]
        },
        {
          "name": "stderr",
          "output_type": "stream",
          "text": [
            "c:\\ProgramData\\anaconda3\\envs\\machinelearning\\Lib\\site-packages\\sklearn\\base.py:493: UserWarning: X does not have valid feature names, but RandomForestClassifier was fitted with feature names\n",
            "  warnings.warn(\n",
            "c:\\ProgramData\\anaconda3\\envs\\machinelearning\\Lib\\site-packages\\sklearn\\base.py:493: UserWarning: X does not have valid feature names, but GaussianNB was fitted with feature names\n",
            "  warnings.warn(\n",
            "c:\\ProgramData\\anaconda3\\envs\\machinelearning\\Lib\\site-packages\\sklearn\\base.py:493: UserWarning: X does not have valid feature names, but SVC was fitted with feature names\n",
            "  warnings.warn(\n"
          ]
        },
        {
          "name": "stdout",
          "output_type": "stream",
          "text": [
            "0.9512195121951219\n",
            "0.9024390243902439\n",
            "28\n"
          ]
        },
        {
          "name": "stderr",
          "output_type": "stream",
          "text": [
            "c:\\ProgramData\\anaconda3\\envs\\machinelearning\\Lib\\site-packages\\sklearn\\base.py:493: UserWarning: X does not have valid feature names, but LogisticRegression was fitted with feature names\n",
            "  warnings.warn(\n",
            "c:\\ProgramData\\anaconda3\\envs\\machinelearning\\Lib\\site-packages\\sklearn\\base.py:493: UserWarning: X does not have valid feature names, but KNeighborsClassifier was fitted with feature names\n",
            "  warnings.warn(\n"
          ]
        }
      ],
      "source": [
        "  #textfileds\n",
        "  t3 = Text(root, height=1, width=40,bg=\"LemonChiffon2\",fg=\"black\")\n",
        "  t3.grid(row=15, column=1, padx=10)\n",
        "  # t1 = Text(root, height=1, width=40,bg=\"orange\",fg=\"black\")\n",
        "  # t1.grid(row=15, column=1, padx=10)\n",
        "\n",
        "  # t2 = Text(root, height=1, width=40,bg=\"orange\",fg=\"black\")\n",
        "  # t2.grid(row=17, column=1 , padx=10)\n",
        "\n",
        "  # t3 = Text(root, height=1, width=40,bg=\"orange\",fg=\"black\")\n",
        "  # t3.grid(row=19, column=1 , padx=10)\n",
        "\n",
        "  root.mainloop()"
      ]
    },
    {
      "cell_type": "code",
      "execution_count": null,
      "id": "25ca9b63",
      "metadata": {
        "id": "25ca9b63"
      },
      "outputs": [],
      "source": []
    }
  ],
  "metadata": {
    "colab": {
      "provenance": []
    },
    "kernelspec": {
      "display_name": "Python 3 (ipykernel)",
      "language": "python",
      "name": "python3"
    },
    "language_info": {
      "codemirror_mode": {
        "name": "ipython",
        "version": 3
      },
      "file_extension": ".py",
      "mimetype": "text/x-python",
      "name": "python",
      "nbconvert_exporter": "python",
      "pygments_lexer": "ipython3",
      "version": "3.12.4"
    }
  },
  "nbformat": 4,
  "nbformat_minor": 5
}
